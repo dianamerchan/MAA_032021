{
 "metadata": {
  "language_info": {
   "codemirror_mode": {
    "name": "ipython",
    "version": 3
   },
   "file_extension": ".py",
   "mimetype": "text/x-python",
   "name": "python",
   "nbconvert_exporter": "python",
   "pygments_lexer": "ipython3",
   "version": "3.7.4-final"
  },
  "orig_nbformat": 2,
  "kernelspec": {
   "name": "python3",
   "display_name": "Python 3.7.4 64-bit ('base': conda)",
   "metadata": {
    "interpreter": {
     "hash": "dca0ade3e726a953b501b15e8e990130d2b7799f14cfd9f4271676035ebe5511"
    }
   }
  }
 },
 "nbformat": 4,
 "nbformat_minor": 2,
 "cells": [
  {
   "cell_type": "code",
   "execution_count": 1,
   "metadata": {},
   "outputs": [],
   "source": [
    "import numpy as np \n",
    "import pandas as pd \n",
    "import time, warnings\n",
    "import datetime as dt\n",
    "import matplotlib.pyplot as plt\n",
    "from pandas.plotting import scatter_matrix\n",
    "%matplotlib inline\n",
    "import seaborn as sns\n",
    "warnings.filterwarnings(\"ignore\")\n"
   ]
  },
  {
   "cell_type": "code",
   "execution_count": 126,
   "metadata": {},
   "outputs": [
    {
     "output_type": "execute_result",
     "data": {
      "text/plain": [
       "  ID CIFRADO LETRAS  dias  proba_tem_may  bin_temp_mayor cate_temp_mayor  \\\n",
       "0              B003     0   1.220000e-07               0            bajo   \n",
       "1              33H8     0   5.350000e-08               0            bajo   \n",
       "2              8BB0     0   1.030000e-06               0            bajo   \n",
       "3             OH6O0     0   2.060000e-04               0            bajo   \n",
       "4             B3HB8     0   5.740000e-07               0            bajo   \n",
       "\n",
       "     banca   Capital   \n",
       "0  consumo   12410465  \n",
       "1  consumo    3310493  \n",
       "2  consumo    2531853  \n",
       "3  consumo    4190830  \n",
       "4  consumo    2975277  "
      ],
      "text/html": "<div>\n<style scoped>\n    .dataframe tbody tr th:only-of-type {\n        vertical-align: middle;\n    }\n\n    .dataframe tbody tr th {\n        vertical-align: top;\n    }\n\n    .dataframe thead th {\n        text-align: right;\n    }\n</style>\n<table border=\"1\" class=\"dataframe\">\n  <thead>\n    <tr style=\"text-align: right;\">\n      <th></th>\n      <th>ID CIFRADO LETRAS</th>\n      <th>dias</th>\n      <th>proba_tem_may</th>\n      <th>bin_temp_mayor</th>\n      <th>cate_temp_mayor</th>\n      <th>banca</th>\n      <th>Capital</th>\n    </tr>\n  </thead>\n  <tbody>\n    <tr>\n      <td>0</td>\n      <td>B003</td>\n      <td>0</td>\n      <td>1.220000e-07</td>\n      <td>0</td>\n      <td>bajo</td>\n      <td>consumo</td>\n      <td>12410465</td>\n    </tr>\n    <tr>\n      <td>1</td>\n      <td>33H8</td>\n      <td>0</td>\n      <td>5.350000e-08</td>\n      <td>0</td>\n      <td>bajo</td>\n      <td>consumo</td>\n      <td>3310493</td>\n    </tr>\n    <tr>\n      <td>2</td>\n      <td>8BB0</td>\n      <td>0</td>\n      <td>1.030000e-06</td>\n      <td>0</td>\n      <td>bajo</td>\n      <td>consumo</td>\n      <td>2531853</td>\n    </tr>\n    <tr>\n      <td>3</td>\n      <td>OH6O0</td>\n      <td>0</td>\n      <td>2.060000e-04</td>\n      <td>0</td>\n      <td>bajo</td>\n      <td>consumo</td>\n      <td>4190830</td>\n    </tr>\n    <tr>\n      <td>4</td>\n      <td>B3HB8</td>\n      <td>0</td>\n      <td>5.740000e-07</td>\n      <td>0</td>\n      <td>bajo</td>\n      <td>consumo</td>\n      <td>2975277</td>\n    </tr>\n  </tbody>\n</table>\n</div>"
     },
     "metadata": {},
     "execution_count": 126
    }
   ],
   "source": [
    "#importar Febrero 2021\n",
    "Feb= pd.read_csv('/Users/merchan diana/Bases/Piloto FEB21.csv', sep = \";\",decimal=\",\")\n",
    "#janT.count()\n",
    "Feb.head()"
   ]
  },
  {
   "cell_type": "code",
   "execution_count": 127,
   "metadata": {},
   "outputs": [
    {
     "output_type": "execute_result",
     "data": {
      "text/plain": [
       "           dias        Prodar  bin_temp_mayor       Balance\n",
       "count  162925.0  1.629250e+05   162925.000000  1.629250e+05\n",
       "mean        0.0  1.286637e-01        0.174356  1.246400e+07\n",
       "std         0.0  2.707059e-01        0.379417  2.914956e+07\n",
       "min         0.0  2.200000e-12        0.000000  7.023000e+03\n",
       "25%         0.0  1.457380e-04        0.000000  1.923029e+06\n",
       "50%         0.0  2.293841e-03        0.000000  4.107879e+06\n",
       "75%         0.0  5.279949e-02        0.000000  1.151759e+07\n",
       "max         0.0  9.999839e-01        1.000000  2.548921e+09"
      ],
      "text/html": "<div>\n<style scoped>\n    .dataframe tbody tr th:only-of-type {\n        vertical-align: middle;\n    }\n\n    .dataframe tbody tr th {\n        vertical-align: top;\n    }\n\n    .dataframe thead th {\n        text-align: right;\n    }\n</style>\n<table border=\"1\" class=\"dataframe\">\n  <thead>\n    <tr style=\"text-align: right;\">\n      <th></th>\n      <th>dias</th>\n      <th>Prodar</th>\n      <th>bin_temp_mayor</th>\n      <th>Balance</th>\n    </tr>\n  </thead>\n  <tbody>\n    <tr>\n      <td>count</td>\n      <td>162925.0</td>\n      <td>1.629250e+05</td>\n      <td>162925.000000</td>\n      <td>1.629250e+05</td>\n    </tr>\n    <tr>\n      <td>mean</td>\n      <td>0.0</td>\n      <td>1.286637e-01</td>\n      <td>0.174356</td>\n      <td>1.246400e+07</td>\n    </tr>\n    <tr>\n      <td>std</td>\n      <td>0.0</td>\n      <td>2.707059e-01</td>\n      <td>0.379417</td>\n      <td>2.914956e+07</td>\n    </tr>\n    <tr>\n      <td>min</td>\n      <td>0.0</td>\n      <td>2.200000e-12</td>\n      <td>0.000000</td>\n      <td>7.023000e+03</td>\n    </tr>\n    <tr>\n      <td>25%</td>\n      <td>0.0</td>\n      <td>1.457380e-04</td>\n      <td>0.000000</td>\n      <td>1.923029e+06</td>\n    </tr>\n    <tr>\n      <td>50%</td>\n      <td>0.0</td>\n      <td>2.293841e-03</td>\n      <td>0.000000</td>\n      <td>4.107879e+06</td>\n    </tr>\n    <tr>\n      <td>75%</td>\n      <td>0.0</td>\n      <td>5.279949e-02</td>\n      <td>0.000000</td>\n      <td>1.151759e+07</td>\n    </tr>\n    <tr>\n      <td>max</td>\n      <td>0.0</td>\n      <td>9.999839e-01</td>\n      <td>1.000000</td>\n      <td>2.548921e+09</td>\n    </tr>\n  </tbody>\n</table>\n</div>"
     },
     "metadata": {},
     "execution_count": 127
    }
   ],
   "source": [
    "Feb=Feb.rename(columns={' Capital ':\"Balance\" ,\"proba_tem_may\":\"Prodar\"\n",
    "})\n",
    "Feb.columns\n",
    "descriptivo_Feb=Feb.describe()\n",
    "descriptivo_Feb"
   ]
  },
  {
   "cell_type": "code",
   "execution_count": 128,
   "metadata": {},
   "outputs": [],
   "source": [
    "datax = Feb['Prodar'].value_counts()\n",
    "datay = pd.DataFrame({\n",
    "'Prodar': datax.index, \n",
    "'Frequency': datax.values,\n",
    "'Percent': ((datax.values/datax.values.sum())*100).round(2),\n",
    "'Cumulative Frequency': datax.values.cumsum(),\n",
    "'Cumulative Percent': ((datax.values.cumsum()/datax.values.sum())*100).round(2)\n",
    "})\n",
    "dist_ProbFEB=datay"
   ]
  },
  {
   "cell_type": "code",
   "execution_count": 128,
   "metadata": {},
   "outputs": [],
   "source": [
    "\n"
   ]
  },
  {
   "cell_type": "code",
   "execution_count": 129,
   "metadata": {},
   "outputs": [],
   "source": [
    "#Dividir último rango de Saldos 30215273 P90\n",
    "def cat_saldos(df): \n",
    "    if df['Balance']>30215273  :\n",
    "        return 6\n",
    "    elif ((df['Balance']>15281460) and (df['Balance']<=30215273)):\n",
    "        return 5\n",
    "    elif ((df['Balance']>5940491) and (df['Balance']<=15281460)):\n",
    "        return 4\n",
    "    elif ((df['Balance']>3152930) and (df['Balance']<=5940491)):\n",
    "        return 3\n",
    "    elif ((df['Balance']>1764961) and (df['Balance']<=3152930)):\n",
    "        return 2\n",
    "    elif df['Balance']<= 1764961:\n",
    "        return 1\n",
    "    else:\n",
    "        return 0\n",
    "\t"
   ]
  },
  {
   "cell_type": "code",
   "execution_count": 130,
   "metadata": {},
   "outputs": [],
   "source": [
    "Feb['Cat_saldo'] = Feb.apply(cat_saldos, axis=1)"
   ]
  },
  {
   "cell_type": "code",
   "execution_count": 131,
   "metadata": {},
   "outputs": [
    {
     "output_type": "execute_result",
     "data": {
      "text/plain": [
       "   Cat_saldo  Frequency  Percent  Cumulative Frequency  Cumulative Percent\n",
       "0          1      36280    22.27                 36280               22.27\n",
       "1          4      31648    19.42                 67928               41.69\n",
       "2          2      31063    19.07                 98991               60.76\n",
       "3          3      31060    19.06                130051               79.82\n",
       "4          6      16957    10.41                147008               90.23\n",
       "5          5      15917     9.77                162925              100.00"
      ],
      "text/html": "<div>\n<style scoped>\n    .dataframe tbody tr th:only-of-type {\n        vertical-align: middle;\n    }\n\n    .dataframe tbody tr th {\n        vertical-align: top;\n    }\n\n    .dataframe thead th {\n        text-align: right;\n    }\n</style>\n<table border=\"1\" class=\"dataframe\">\n  <thead>\n    <tr style=\"text-align: right;\">\n      <th></th>\n      <th>Cat_saldo</th>\n      <th>Frequency</th>\n      <th>Percent</th>\n      <th>Cumulative Frequency</th>\n      <th>Cumulative Percent</th>\n    </tr>\n  </thead>\n  <tbody>\n    <tr>\n      <td>0</td>\n      <td>1</td>\n      <td>36280</td>\n      <td>22.27</td>\n      <td>36280</td>\n      <td>22.27</td>\n    </tr>\n    <tr>\n      <td>1</td>\n      <td>4</td>\n      <td>31648</td>\n      <td>19.42</td>\n      <td>67928</td>\n      <td>41.69</td>\n    </tr>\n    <tr>\n      <td>2</td>\n      <td>2</td>\n      <td>31063</td>\n      <td>19.07</td>\n      <td>98991</td>\n      <td>60.76</td>\n    </tr>\n    <tr>\n      <td>3</td>\n      <td>3</td>\n      <td>31060</td>\n      <td>19.06</td>\n      <td>130051</td>\n      <td>79.82</td>\n    </tr>\n    <tr>\n      <td>4</td>\n      <td>6</td>\n      <td>16957</td>\n      <td>10.41</td>\n      <td>147008</td>\n      <td>90.23</td>\n    </tr>\n    <tr>\n      <td>5</td>\n      <td>5</td>\n      <td>15917</td>\n      <td>9.77</td>\n      <td>162925</td>\n      <td>100.00</td>\n    </tr>\n  </tbody>\n</table>\n</div>"
     },
     "metadata": {},
     "execution_count": 131
    }
   ],
   "source": [
    "Feb['Cat_saldo'] = Feb.apply(cat_saldos, axis=1)\n",
    "#Grupos de Saldos\n",
    "datax = Feb['Cat_saldo'].value_counts()\n",
    "datay = pd.DataFrame({\n",
    "'Cat_saldo': datax.index, \n",
    "'Frequency': datax.values,\n",
    "'Percent': ((datax.values/datax.values.sum())*100).round(2),\n",
    "'Cumulative Frequency': datax.values.cumsum(),\n",
    "'Cumulative Percent': ((datax.values.cumsum()/datax.values.sum())*100).round(2)\n",
    "})\n",
    "dist_saldoFeb=datay\n",
    "dist_saldoFeb\n"
   ]
  },
  {
   "cell_type": "code",
   "execution_count": 132,
   "metadata": {},
   "outputs": [],
   "source": [
    "#Categorizar Probabilidad en  quintiles \n",
    "\n",
    "def cat_prob(df): \n",
    "    if df['Prodar']>0.10555798:\n",
    "        return 5\n",
    "    elif ((df['Prodar']>0.00547691) and (df['Prodar']<=0.10555798)):\n",
    "        return 4\n",
    "    elif ((df['Prodar']>0.00078891) and (df['Prodar']<=0.00547691)):\n",
    "        return 3\n",
    "    elif ((df['Prodar']>0.00006031) and (df['Prodar']<=0.00078891)):\n",
    "        return 2\n",
    "    elif df['Prodar']<=0.00006031:\n",
    "        return 1\n",
    "    else:\n",
    "        return 0\n"
   ]
  },
  {
   "cell_type": "code",
   "execution_count": 133,
   "metadata": {},
   "outputs": [
    {
     "output_type": "execute_result",
     "data": {
      "text/plain": [
       "   Cat_saldo  Frequency  Percent  Cumulative Frequency  Cumulative Percent\n",
       "0          5      34781    21.35                 34781               21.35\n",
       "1          4      32820    20.14                 67601               41.49\n",
       "2          1      31969    19.62                 99570               61.11\n",
       "3          2      31840    19.54                131410               80.66\n",
       "4          3      31515    19.34                162925              100.00"
      ],
      "text/html": "<div>\n<style scoped>\n    .dataframe tbody tr th:only-of-type {\n        vertical-align: middle;\n    }\n\n    .dataframe tbody tr th {\n        vertical-align: top;\n    }\n\n    .dataframe thead th {\n        text-align: right;\n    }\n</style>\n<table border=\"1\" class=\"dataframe\">\n  <thead>\n    <tr style=\"text-align: right;\">\n      <th></th>\n      <th>Cat_saldo</th>\n      <th>Frequency</th>\n      <th>Percent</th>\n      <th>Cumulative Frequency</th>\n      <th>Cumulative Percent</th>\n    </tr>\n  </thead>\n  <tbody>\n    <tr>\n      <td>0</td>\n      <td>5</td>\n      <td>34781</td>\n      <td>21.35</td>\n      <td>34781</td>\n      <td>21.35</td>\n    </tr>\n    <tr>\n      <td>1</td>\n      <td>4</td>\n      <td>32820</td>\n      <td>20.14</td>\n      <td>67601</td>\n      <td>41.49</td>\n    </tr>\n    <tr>\n      <td>2</td>\n      <td>1</td>\n      <td>31969</td>\n      <td>19.62</td>\n      <td>99570</td>\n      <td>61.11</td>\n    </tr>\n    <tr>\n      <td>3</td>\n      <td>2</td>\n      <td>31840</td>\n      <td>19.54</td>\n      <td>131410</td>\n      <td>80.66</td>\n    </tr>\n    <tr>\n      <td>4</td>\n      <td>3</td>\n      <td>31515</td>\n      <td>19.34</td>\n      <td>162925</td>\n      <td>100.00</td>\n    </tr>\n  </tbody>\n</table>\n</div>"
     },
     "metadata": {},
     "execution_count": 133
    }
   ],
   "source": [
    "Feb['bucket'] = Feb.apply(cat_prob, axis=1)\n",
    "#Grupos de Saldos\n",
    "datax = Feb['bucket'].value_counts()\n",
    "datay = pd.DataFrame({\n",
    "'Cat_saldo': datax.index, \n",
    "'Frequency': datax.values,\n",
    "'Percent': ((datax.values/datax.values.sum())*100).round(2),\n",
    "'Cumulative Frequency': datax.values.cumsum(),\n",
    "'Cumulative Percent': ((datax.values.cumsum()/datax.values.sum())*100).round(2)\n",
    "})\n",
    "dist_probFeb=datay\n",
    "dist_probFeb"
   ]
  },
  {
   "cell_type": "code",
   "execution_count": 134,
   "metadata": {},
   "outputs": [],
   "source": [
    "# Matriz\n",
    "def marcas(df): \n",
    "    if ((df['bucket']==5) and (df['Cat_saldo']>=3)):\n",
    "        return \"1.SA\"\n",
    "    elif ((df['bucket']==5) and (df['Cat_saldo']==2)):\n",
    "        return \"2.A\"\n",
    "    elif ((df['bucket']==5) and (df['Cat_saldo']==1)):\n",
    "        return \"2.A\" \n",
    "    elif ((df['bucket']==4) and (df['Cat_saldo']==6)):\n",
    "        return \"1.SA\" \n",
    "    elif ((df['bucket']==4) and (df['Cat_saldo']==5)):\n",
    "        return \"2.A\" \n",
    "    elif ((df['bucket']==4) and (df['Cat_saldo']==4)):\n",
    "        return \"2.A\" \n",
    "    elif ((df['bucket']==4) and (df['Cat_saldo']<=3)):\n",
    "        return \"3.M\" \n",
    "    elif ((df['bucket']==3) and (df['Cat_saldo']==6)):\n",
    "        return \"2.A\" \n",
    "    elif ((df['bucket']==3) and (df['Cat_saldo']<=5)):\n",
    "        return \"3.M\" \n",
    "    elif ((df['bucket']==2) and (df['Cat_saldo']==6)):\n",
    "        return \"3.M\" \n",
    "    elif ((df['bucket']==2) and (df['Cat_saldo']>=2 and df['Cat_saldo']<=5)):\n",
    "        return \"4.B\" \n",
    "    elif ((df['bucket']==2) and (df['Cat_saldo']==1)):\n",
    "        return \"5.SB\" \n",
    "    elif ((df['bucket']==1) and (df['Cat_saldo']>=2)):\n",
    "        return \"4.B\" \n",
    "    elif ((df['bucket']==1) and (df['Cat_saldo']<=2)):\n",
    "        return \"5.SB\" \n",
    "    else:\n",
    "        return 0\n"
   ]
  },
  {
   "cell_type": "code",
   "execution_count": 135,
   "metadata": {},
   "outputs": [
    {
     "output_type": "execute_result",
     "data": {
      "text/plain": [
       "  Marcas  Frequency  Percent  Cumulative Frequency  Cumulative Percent\n",
       "0    3.M      54658    33.55                 54658               33.55\n",
       "1    4.B      47656    29.25                102314               62.80\n",
       "2    2.A      24197    14.85                126511               77.65\n",
       "3   1.SA      23887    14.66                150398               92.31\n",
       "4   5.SB      12527     7.69                162925              100.00"
      ],
      "text/html": "<div>\n<style scoped>\n    .dataframe tbody tr th:only-of-type {\n        vertical-align: middle;\n    }\n\n    .dataframe tbody tr th {\n        vertical-align: top;\n    }\n\n    .dataframe thead th {\n        text-align: right;\n    }\n</style>\n<table border=\"1\" class=\"dataframe\">\n  <thead>\n    <tr style=\"text-align: right;\">\n      <th></th>\n      <th>Marcas</th>\n      <th>Frequency</th>\n      <th>Percent</th>\n      <th>Cumulative Frequency</th>\n      <th>Cumulative Percent</th>\n    </tr>\n  </thead>\n  <tbody>\n    <tr>\n      <td>0</td>\n      <td>3.M</td>\n      <td>54658</td>\n      <td>33.55</td>\n      <td>54658</td>\n      <td>33.55</td>\n    </tr>\n    <tr>\n      <td>1</td>\n      <td>4.B</td>\n      <td>47656</td>\n      <td>29.25</td>\n      <td>102314</td>\n      <td>62.80</td>\n    </tr>\n    <tr>\n      <td>2</td>\n      <td>2.A</td>\n      <td>24197</td>\n      <td>14.85</td>\n      <td>126511</td>\n      <td>77.65</td>\n    </tr>\n    <tr>\n      <td>3</td>\n      <td>1.SA</td>\n      <td>23887</td>\n      <td>14.66</td>\n      <td>150398</td>\n      <td>92.31</td>\n    </tr>\n    <tr>\n      <td>4</td>\n      <td>5.SB</td>\n      <td>12527</td>\n      <td>7.69</td>\n      <td>162925</td>\n      <td>100.00</td>\n    </tr>\n  </tbody>\n</table>\n</div>"
     },
     "metadata": {},
     "execution_count": 135
    }
   ],
   "source": [
    "Feb['Marcas'] = Feb.apply(marcas, axis=1)\n",
    "datax = Feb['Marcas'].value_counts()\n",
    "datay = pd.DataFrame({\n",
    "'Marcas': datax.index, \n",
    "'Frequency': datax.values,\n",
    "'Percent': ((datax.values/datax.values.sum())*100).round(2),\n",
    "'Cumulative Frequency': datax.values.cumsum(),\n",
    "'Cumulative Percent': ((datax.values.cumsum()/datax.values.sum())*100).round(2)\n",
    "})\n",
    "dist_Marcas=datay\n",
    "dist_Marcas"
   ]
  },
  {
   "cell_type": "code",
   "execution_count": 136,
   "metadata": {},
   "outputs": [],
   "source": [
    "#marcas por Saldos \n",
    "marcas_saldos=Feb.groupby(\"Marcas\")[\"Balance\"].sum()"
   ]
  },
  {
   "cell_type": "code",
   "execution_count": 137,
   "metadata": {},
   "outputs": [
    {
     "output_type": "execute_result",
     "data": {
      "text/plain": [
       "Index(['ID CIFRADO LETRAS', 'Capital', 'Dias', 'Banca', 'Piloto - Control',\n",
       "       'cate_no_pago LP', 'cate_temp_mayor LP', 'combinacion LP',\n",
       "       'cate_no_pago CP', 'cate_temp_mayor CP', 'combinacion CP',\n",
       "       'Priorización Final', 'DIAS DE MORA FINAL Febrero'],\n",
       "      dtype='object')"
      ]
     },
     "metadata": {},
     "execution_count": 137
    }
   ],
   "source": [
    "#unir máxima mora \n",
    "mora_max_feb= pd.read_csv('/Users/merchan diana/Bases/Priorizaci¢n final_Feb_LP_CP_0_dias_Enviado .csv', sep = \";\",decimal=\",\")\n",
    "mora_max_feb.head()\n",
    "mora_max_feb.columns"
   ]
  },
  {
   "cell_type": "code",
   "execution_count": 138,
   "metadata": {},
   "outputs": [],
   "source": [
    "\n",
    "mora_max_feb=mora_max_feb[['ID CIFRADO LETRAS','DIAS DE MORA FINAL Febrero','Piloto - Control']]\n",
    "mora_max_feb=mora_max_feb.rename(columns=\n",
    "{\"DIAS DE MORA FINAL Febrero\":'max_mora_feb'})\n",
    "Feb=pd.merge(Feb,mora_max_feb,on=\"ID CIFRADO LETRAS\",how=\"left\")\n",
    "#Feb.describe()\n"
   ]
  },
  {
   "cell_type": "code",
   "execution_count": 139,
   "metadata": {},
   "outputs": [],
   "source": [
    "#Frecuencias mora Febrero\n",
    "datax = Feb['max_mora_feb'].value_counts()\n",
    "datay = pd.DataFrame({\n",
    "'max_mora_feb': datax.index, \n",
    "'Frequency': datax.values,\n",
    "'Percent': ((datax.values/datax.values.sum())*100).round(2),\n",
    "'Cumulative Frequency': datax.values.cumsum(),\n",
    "'Cumulative Percent': ((datax.values.cumsum()/datax.values.sum())*100).round(2)\n",
    "})\n",
    "moras_feb=datay\n",
    "#moras_feb"
   ]
  },
  {
   "cell_type": "code",
   "execution_count": 140,
   "metadata": {},
   "outputs": [
    {
     "output_type": "execute_result",
     "data": {
      "text/plain": [
       "           dias        Prodar  bin_temp_mayor       Balance      Cat_saldo  \\\n",
       "count  162925.0  1.629250e+05   162925.000000  1.629250e+05  162925.000000   \n",
       "mean        0.0  1.286637e-01        0.174356  1.246400e+07       3.065859   \n",
       "std         0.0  2.707059e-01        0.379417  2.914956e+07       1.612076   \n",
       "min         0.0  2.200000e-12        0.000000  7.023000e+03       1.000000   \n",
       "25%         0.0  1.457380e-04        0.000000  1.923029e+06       2.000000   \n",
       "50%         0.0  2.293841e-03        0.000000  4.107879e+06       3.000000   \n",
       "75%         0.0  5.279949e-02        0.000000  1.151759e+07       4.000000   \n",
       "max         0.0  9.999839e-01        1.000000  2.548921e+09       6.000000   \n",
       "\n",
       "              bucket   max_mora_feb          Caida  \n",
       "count  162925.000000  162925.000000  162925.000000  \n",
       "mean        3.040534       3.753113       0.389161  \n",
       "std         1.426194       7.678492       0.487561  \n",
       "min         1.000000       0.000000       0.000000  \n",
       "25%         2.000000       0.000000       0.000000  \n",
       "50%         3.000000       0.000000       0.000000  \n",
       "75%         4.000000       3.000000       1.000000  \n",
       "max         5.000000     333.000000       1.000000  "
      ],
      "text/html": "<div>\n<style scoped>\n    .dataframe tbody tr th:only-of-type {\n        vertical-align: middle;\n    }\n\n    .dataframe tbody tr th {\n        vertical-align: top;\n    }\n\n    .dataframe thead th {\n        text-align: right;\n    }\n</style>\n<table border=\"1\" class=\"dataframe\">\n  <thead>\n    <tr style=\"text-align: right;\">\n      <th></th>\n      <th>dias</th>\n      <th>Prodar</th>\n      <th>bin_temp_mayor</th>\n      <th>Balance</th>\n      <th>Cat_saldo</th>\n      <th>bucket</th>\n      <th>max_mora_feb</th>\n      <th>Caida</th>\n    </tr>\n  </thead>\n  <tbody>\n    <tr>\n      <td>count</td>\n      <td>162925.0</td>\n      <td>1.629250e+05</td>\n      <td>162925.000000</td>\n      <td>1.629250e+05</td>\n      <td>162925.000000</td>\n      <td>162925.000000</td>\n      <td>162925.000000</td>\n      <td>162925.000000</td>\n    </tr>\n    <tr>\n      <td>mean</td>\n      <td>0.0</td>\n      <td>1.286637e-01</td>\n      <td>0.174356</td>\n      <td>1.246400e+07</td>\n      <td>3.065859</td>\n      <td>3.040534</td>\n      <td>3.753113</td>\n      <td>0.389161</td>\n    </tr>\n    <tr>\n      <td>std</td>\n      <td>0.0</td>\n      <td>2.707059e-01</td>\n      <td>0.379417</td>\n      <td>2.914956e+07</td>\n      <td>1.612076</td>\n      <td>1.426194</td>\n      <td>7.678492</td>\n      <td>0.487561</td>\n    </tr>\n    <tr>\n      <td>min</td>\n      <td>0.0</td>\n      <td>2.200000e-12</td>\n      <td>0.000000</td>\n      <td>7.023000e+03</td>\n      <td>1.000000</td>\n      <td>1.000000</td>\n      <td>0.000000</td>\n      <td>0.000000</td>\n    </tr>\n    <tr>\n      <td>25%</td>\n      <td>0.0</td>\n      <td>1.457380e-04</td>\n      <td>0.000000</td>\n      <td>1.923029e+06</td>\n      <td>2.000000</td>\n      <td>2.000000</td>\n      <td>0.000000</td>\n      <td>0.000000</td>\n    </tr>\n    <tr>\n      <td>50%</td>\n      <td>0.0</td>\n      <td>2.293841e-03</td>\n      <td>0.000000</td>\n      <td>4.107879e+06</td>\n      <td>3.000000</td>\n      <td>3.000000</td>\n      <td>0.000000</td>\n      <td>0.000000</td>\n    </tr>\n    <tr>\n      <td>75%</td>\n      <td>0.0</td>\n      <td>5.279949e-02</td>\n      <td>0.000000</td>\n      <td>1.151759e+07</td>\n      <td>4.000000</td>\n      <td>4.000000</td>\n      <td>3.000000</td>\n      <td>1.000000</td>\n    </tr>\n    <tr>\n      <td>max</td>\n      <td>0.0</td>\n      <td>9.999839e-01</td>\n      <td>1.000000</td>\n      <td>2.548921e+09</td>\n      <td>6.000000</td>\n      <td>5.000000</td>\n      <td>333.000000</td>\n      <td>1.000000</td>\n    </tr>\n  </tbody>\n</table>\n</div>"
     },
     "metadata": {},
     "execution_count": 140
    }
   ],
   "source": [
    "#def caída > 0\n",
    "def BR_F1_max(df):\n",
    "    if df['max_mora_feb']>=1:\n",
    "        return 1\n",
    "    else:\n",
    "        return 0\n",
    "\n",
    "Feb['Caida']=Feb.apply(BR_F1_max,axis=1)\n",
    "desc_caida=Feb.describe()\n",
    "desc_caida"
   ]
  },
  {
   "cell_type": "code",
   "execution_count": 159,
   "metadata": {},
   "outputs": [
    {
     "output_type": "execute_result",
     "data": {
      "text/plain": [
       "           dias        Prodar  bin_temp_mayor       Balance      Cat_saldo  \\\n",
       "count  162925.0  1.629250e+05   162925.000000  1.629250e+05  162925.000000   \n",
       "mean        0.0  1.286637e-01        0.174356  1.246400e+07       3.065859   \n",
       "std         0.0  2.707059e-01        0.379417  2.914956e+07       1.612076   \n",
       "min         0.0  2.200000e-12        0.000000  7.023000e+03       1.000000   \n",
       "25%         0.0  1.457380e-04        0.000000  1.923029e+06       2.000000   \n",
       "50%         0.0  2.293841e-03        0.000000  4.107879e+06       3.000000   \n",
       "75%         0.0  5.279949e-02        0.000000  1.151759e+07       4.000000   \n",
       "max         0.0  9.999839e-01        1.000000  2.548921e+09       6.000000   \n",
       "\n",
       "              bucket   max_mora_feb          Caida         Caida5  \n",
       "count  162925.000000  162925.000000  162925.000000  162925.000000  \n",
       "mean        3.040534       3.753113       0.389161       0.228479  \n",
       "std         1.426194       7.678492       0.487561       0.419854  \n",
       "min         1.000000       0.000000       0.000000       0.000000  \n",
       "25%         2.000000       0.000000       0.000000       0.000000  \n",
       "50%         3.000000       0.000000       0.000000       0.000000  \n",
       "75%         4.000000       3.000000       1.000000       0.000000  \n",
       "max         5.000000     333.000000       1.000000       1.000000  "
      ],
      "text/html": "<div>\n<style scoped>\n    .dataframe tbody tr th:only-of-type {\n        vertical-align: middle;\n    }\n\n    .dataframe tbody tr th {\n        vertical-align: top;\n    }\n\n    .dataframe thead th {\n        text-align: right;\n    }\n</style>\n<table border=\"1\" class=\"dataframe\">\n  <thead>\n    <tr style=\"text-align: right;\">\n      <th></th>\n      <th>dias</th>\n      <th>Prodar</th>\n      <th>bin_temp_mayor</th>\n      <th>Balance</th>\n      <th>Cat_saldo</th>\n      <th>bucket</th>\n      <th>max_mora_feb</th>\n      <th>Caida</th>\n      <th>Caida5</th>\n    </tr>\n  </thead>\n  <tbody>\n    <tr>\n      <td>count</td>\n      <td>162925.0</td>\n      <td>1.629250e+05</td>\n      <td>162925.000000</td>\n      <td>1.629250e+05</td>\n      <td>162925.000000</td>\n      <td>162925.000000</td>\n      <td>162925.000000</td>\n      <td>162925.000000</td>\n      <td>162925.000000</td>\n    </tr>\n    <tr>\n      <td>mean</td>\n      <td>0.0</td>\n      <td>1.286637e-01</td>\n      <td>0.174356</td>\n      <td>1.246400e+07</td>\n      <td>3.065859</td>\n      <td>3.040534</td>\n      <td>3.753113</td>\n      <td>0.389161</td>\n      <td>0.228479</td>\n    </tr>\n    <tr>\n      <td>std</td>\n      <td>0.0</td>\n      <td>2.707059e-01</td>\n      <td>0.379417</td>\n      <td>2.914956e+07</td>\n      <td>1.612076</td>\n      <td>1.426194</td>\n      <td>7.678492</td>\n      <td>0.487561</td>\n      <td>0.419854</td>\n    </tr>\n    <tr>\n      <td>min</td>\n      <td>0.0</td>\n      <td>2.200000e-12</td>\n      <td>0.000000</td>\n      <td>7.023000e+03</td>\n      <td>1.000000</td>\n      <td>1.000000</td>\n      <td>0.000000</td>\n      <td>0.000000</td>\n      <td>0.000000</td>\n    </tr>\n    <tr>\n      <td>25%</td>\n      <td>0.0</td>\n      <td>1.457380e-04</td>\n      <td>0.000000</td>\n      <td>1.923029e+06</td>\n      <td>2.000000</td>\n      <td>2.000000</td>\n      <td>0.000000</td>\n      <td>0.000000</td>\n      <td>0.000000</td>\n    </tr>\n    <tr>\n      <td>50%</td>\n      <td>0.0</td>\n      <td>2.293841e-03</td>\n      <td>0.000000</td>\n      <td>4.107879e+06</td>\n      <td>3.000000</td>\n      <td>3.000000</td>\n      <td>0.000000</td>\n      <td>0.000000</td>\n      <td>0.000000</td>\n    </tr>\n    <tr>\n      <td>75%</td>\n      <td>0.0</td>\n      <td>5.279949e-02</td>\n      <td>0.000000</td>\n      <td>1.151759e+07</td>\n      <td>4.000000</td>\n      <td>4.000000</td>\n      <td>3.000000</td>\n      <td>1.000000</td>\n      <td>0.000000</td>\n    </tr>\n    <tr>\n      <td>max</td>\n      <td>0.0</td>\n      <td>9.999839e-01</td>\n      <td>1.000000</td>\n      <td>2.548921e+09</td>\n      <td>6.000000</td>\n      <td>5.000000</td>\n      <td>333.000000</td>\n      <td>1.000000</td>\n      <td>1.000000</td>\n    </tr>\n  </tbody>\n</table>\n</div>"
     },
     "metadata": {},
     "execution_count": 159
    }
   ],
   "source": [
    "#def caída > 5\n",
    "def BR_F5_max(df):\n",
    "    if df['max_mora_feb']>=5:\n",
    "        return 1\n",
    "    else:\n",
    "        return 0\n",
    "\n",
    "Feb['Caida5']=Feb.apply(BR_F5_max,axis=1)\n",
    "desc_caida5=Feb.describe()\n",
    "desc_caida5"
   ]
  },
  {
   "cell_type": "code",
   "execution_count": 161,
   "metadata": {},
   "outputs": [
    {
     "output_type": "execute_result",
     "data": {
      "text/plain": [
       "           dias        Prodar  bin_temp_mayor       Balance      Cat_saldo  \\\n",
       "count  162925.0  1.629250e+05   162925.000000  1.629250e+05  162925.000000   \n",
       "mean        0.0  1.286637e-01        0.174356  1.246400e+07       3.065859   \n",
       "std         0.0  2.707059e-01        0.379417  2.914956e+07       1.612076   \n",
       "min         0.0  2.200000e-12        0.000000  7.023000e+03       1.000000   \n",
       "25%         0.0  1.457380e-04        0.000000  1.923029e+06       2.000000   \n",
       "50%         0.0  2.293841e-03        0.000000  4.107879e+06       3.000000   \n",
       "75%         0.0  5.279949e-02        0.000000  1.151759e+07       4.000000   \n",
       "max         0.0  9.999839e-01        1.000000  2.548921e+09       6.000000   \n",
       "\n",
       "              bucket   max_mora_feb          Caida         Caida5  \\\n",
       "count  162925.000000  162925.000000  162925.000000  162925.000000   \n",
       "mean        3.040534       3.753113       0.389161       0.228479   \n",
       "std         1.426194       7.678492       0.487561       0.419854   \n",
       "min         1.000000       0.000000       0.000000       0.000000   \n",
       "25%         2.000000       0.000000       0.000000       0.000000   \n",
       "50%         3.000000       0.000000       0.000000       0.000000   \n",
       "75%         4.000000       3.000000       1.000000       0.000000   \n",
       "max         5.000000     333.000000       1.000000       1.000000   \n",
       "\n",
       "             Caida10  \n",
       "count  162925.000000  \n",
       "mean        0.137603  \n",
       "std         0.344484  \n",
       "min         0.000000  \n",
       "25%         0.000000  \n",
       "50%         0.000000  \n",
       "75%         0.000000  \n",
       "max         1.000000  "
      ],
      "text/html": "<div>\n<style scoped>\n    .dataframe tbody tr th:only-of-type {\n        vertical-align: middle;\n    }\n\n    .dataframe tbody tr th {\n        vertical-align: top;\n    }\n\n    .dataframe thead th {\n        text-align: right;\n    }\n</style>\n<table border=\"1\" class=\"dataframe\">\n  <thead>\n    <tr style=\"text-align: right;\">\n      <th></th>\n      <th>dias</th>\n      <th>Prodar</th>\n      <th>bin_temp_mayor</th>\n      <th>Balance</th>\n      <th>Cat_saldo</th>\n      <th>bucket</th>\n      <th>max_mora_feb</th>\n      <th>Caida</th>\n      <th>Caida5</th>\n      <th>Caida10</th>\n    </tr>\n  </thead>\n  <tbody>\n    <tr>\n      <td>count</td>\n      <td>162925.0</td>\n      <td>1.629250e+05</td>\n      <td>162925.000000</td>\n      <td>1.629250e+05</td>\n      <td>162925.000000</td>\n      <td>162925.000000</td>\n      <td>162925.000000</td>\n      <td>162925.000000</td>\n      <td>162925.000000</td>\n      <td>162925.000000</td>\n    </tr>\n    <tr>\n      <td>mean</td>\n      <td>0.0</td>\n      <td>1.286637e-01</td>\n      <td>0.174356</td>\n      <td>1.246400e+07</td>\n      <td>3.065859</td>\n      <td>3.040534</td>\n      <td>3.753113</td>\n      <td>0.389161</td>\n      <td>0.228479</td>\n      <td>0.137603</td>\n    </tr>\n    <tr>\n      <td>std</td>\n      <td>0.0</td>\n      <td>2.707059e-01</td>\n      <td>0.379417</td>\n      <td>2.914956e+07</td>\n      <td>1.612076</td>\n      <td>1.426194</td>\n      <td>7.678492</td>\n      <td>0.487561</td>\n      <td>0.419854</td>\n      <td>0.344484</td>\n    </tr>\n    <tr>\n      <td>min</td>\n      <td>0.0</td>\n      <td>2.200000e-12</td>\n      <td>0.000000</td>\n      <td>7.023000e+03</td>\n      <td>1.000000</td>\n      <td>1.000000</td>\n      <td>0.000000</td>\n      <td>0.000000</td>\n      <td>0.000000</td>\n      <td>0.000000</td>\n    </tr>\n    <tr>\n      <td>25%</td>\n      <td>0.0</td>\n      <td>1.457380e-04</td>\n      <td>0.000000</td>\n      <td>1.923029e+06</td>\n      <td>2.000000</td>\n      <td>2.000000</td>\n      <td>0.000000</td>\n      <td>0.000000</td>\n      <td>0.000000</td>\n      <td>0.000000</td>\n    </tr>\n    <tr>\n      <td>50%</td>\n      <td>0.0</td>\n      <td>2.293841e-03</td>\n      <td>0.000000</td>\n      <td>4.107879e+06</td>\n      <td>3.000000</td>\n      <td>3.000000</td>\n      <td>0.000000</td>\n      <td>0.000000</td>\n      <td>0.000000</td>\n      <td>0.000000</td>\n    </tr>\n    <tr>\n      <td>75%</td>\n      <td>0.0</td>\n      <td>5.279949e-02</td>\n      <td>0.000000</td>\n      <td>1.151759e+07</td>\n      <td>4.000000</td>\n      <td>4.000000</td>\n      <td>3.000000</td>\n      <td>1.000000</td>\n      <td>0.000000</td>\n      <td>0.000000</td>\n    </tr>\n    <tr>\n      <td>max</td>\n      <td>0.0</td>\n      <td>9.999839e-01</td>\n      <td>1.000000</td>\n      <td>2.548921e+09</td>\n      <td>6.000000</td>\n      <td>5.000000</td>\n      <td>333.000000</td>\n      <td>1.000000</td>\n      <td>1.000000</td>\n      <td>1.000000</td>\n    </tr>\n  </tbody>\n</table>\n</div>"
     },
     "metadata": {},
     "execution_count": 161
    }
   ],
   "source": [
    "#def caída > 10\n",
    "def BR_F10_max(df):\n",
    "    if df['max_mora_feb']>=10:\n",
    "        return 1\n",
    "    else:\n",
    "        return 0\n",
    "\n",
    "Feb['Caida10']=Feb.apply(BR_F10_max,axis=1)\n",
    "desc_caida10=Feb.describe()\n",
    "desc_caida10"
   ]
  },
  {
   "cell_type": "code",
   "execution_count": 162,
   "metadata": {},
   "outputs": [
    {
     "output_type": "execute_result",
     "data": {
      "text/plain": [
       "           dias        Prodar  bin_temp_mayor       Balance      Cat_saldo  \\\n",
       "count  162925.0  1.629250e+05   162925.000000  1.629250e+05  162925.000000   \n",
       "mean        0.0  1.286637e-01        0.174356  1.246400e+07       3.065859   \n",
       "std         0.0  2.707059e-01        0.379417  2.914956e+07       1.612076   \n",
       "min         0.0  2.200000e-12        0.000000  7.023000e+03       1.000000   \n",
       "25%         0.0  1.457380e-04        0.000000  1.923029e+06       2.000000   \n",
       "50%         0.0  2.293841e-03        0.000000  4.107879e+06       3.000000   \n",
       "75%         0.0  5.279949e-02        0.000000  1.151759e+07       4.000000   \n",
       "max         0.0  9.999839e-01        1.000000  2.548921e+09       6.000000   \n",
       "\n",
       "              bucket   max_mora_feb          Caida         Caida5  \\\n",
       "count  162925.000000  162925.000000  162925.000000  162925.000000   \n",
       "mean        3.040534       3.753113       0.389161       0.228479   \n",
       "std         1.426194       7.678492       0.487561       0.419854   \n",
       "min         1.000000       0.000000       0.000000       0.000000   \n",
       "25%         2.000000       0.000000       0.000000       0.000000   \n",
       "50%         3.000000       0.000000       0.000000       0.000000   \n",
       "75%         4.000000       3.000000       1.000000       0.000000   \n",
       "max         5.000000     333.000000       1.000000       1.000000   \n",
       "\n",
       "             Caida10        Caida15  \n",
       "count  162925.000000  162925.000000  \n",
       "mean        0.137603       0.093601  \n",
       "std         0.344484       0.291274  \n",
       "min         0.000000       0.000000  \n",
       "25%         0.000000       0.000000  \n",
       "50%         0.000000       0.000000  \n",
       "75%         0.000000       0.000000  \n",
       "max         1.000000       1.000000  "
      ],
      "text/html": "<div>\n<style scoped>\n    .dataframe tbody tr th:only-of-type {\n        vertical-align: middle;\n    }\n\n    .dataframe tbody tr th {\n        vertical-align: top;\n    }\n\n    .dataframe thead th {\n        text-align: right;\n    }\n</style>\n<table border=\"1\" class=\"dataframe\">\n  <thead>\n    <tr style=\"text-align: right;\">\n      <th></th>\n      <th>dias</th>\n      <th>Prodar</th>\n      <th>bin_temp_mayor</th>\n      <th>Balance</th>\n      <th>Cat_saldo</th>\n      <th>bucket</th>\n      <th>max_mora_feb</th>\n      <th>Caida</th>\n      <th>Caida5</th>\n      <th>Caida10</th>\n      <th>Caida15</th>\n    </tr>\n  </thead>\n  <tbody>\n    <tr>\n      <td>count</td>\n      <td>162925.0</td>\n      <td>1.629250e+05</td>\n      <td>162925.000000</td>\n      <td>1.629250e+05</td>\n      <td>162925.000000</td>\n      <td>162925.000000</td>\n      <td>162925.000000</td>\n      <td>162925.000000</td>\n      <td>162925.000000</td>\n      <td>162925.000000</td>\n      <td>162925.000000</td>\n    </tr>\n    <tr>\n      <td>mean</td>\n      <td>0.0</td>\n      <td>1.286637e-01</td>\n      <td>0.174356</td>\n      <td>1.246400e+07</td>\n      <td>3.065859</td>\n      <td>3.040534</td>\n      <td>3.753113</td>\n      <td>0.389161</td>\n      <td>0.228479</td>\n      <td>0.137603</td>\n      <td>0.093601</td>\n    </tr>\n    <tr>\n      <td>std</td>\n      <td>0.0</td>\n      <td>2.707059e-01</td>\n      <td>0.379417</td>\n      <td>2.914956e+07</td>\n      <td>1.612076</td>\n      <td>1.426194</td>\n      <td>7.678492</td>\n      <td>0.487561</td>\n      <td>0.419854</td>\n      <td>0.344484</td>\n      <td>0.291274</td>\n    </tr>\n    <tr>\n      <td>min</td>\n      <td>0.0</td>\n      <td>2.200000e-12</td>\n      <td>0.000000</td>\n      <td>7.023000e+03</td>\n      <td>1.000000</td>\n      <td>1.000000</td>\n      <td>0.000000</td>\n      <td>0.000000</td>\n      <td>0.000000</td>\n      <td>0.000000</td>\n      <td>0.000000</td>\n    </tr>\n    <tr>\n      <td>25%</td>\n      <td>0.0</td>\n      <td>1.457380e-04</td>\n      <td>0.000000</td>\n      <td>1.923029e+06</td>\n      <td>2.000000</td>\n      <td>2.000000</td>\n      <td>0.000000</td>\n      <td>0.000000</td>\n      <td>0.000000</td>\n      <td>0.000000</td>\n      <td>0.000000</td>\n    </tr>\n    <tr>\n      <td>50%</td>\n      <td>0.0</td>\n      <td>2.293841e-03</td>\n      <td>0.000000</td>\n      <td>4.107879e+06</td>\n      <td>3.000000</td>\n      <td>3.000000</td>\n      <td>0.000000</td>\n      <td>0.000000</td>\n      <td>0.000000</td>\n      <td>0.000000</td>\n      <td>0.000000</td>\n    </tr>\n    <tr>\n      <td>75%</td>\n      <td>0.0</td>\n      <td>5.279949e-02</td>\n      <td>0.000000</td>\n      <td>1.151759e+07</td>\n      <td>4.000000</td>\n      <td>4.000000</td>\n      <td>3.000000</td>\n      <td>1.000000</td>\n      <td>0.000000</td>\n      <td>0.000000</td>\n      <td>0.000000</td>\n    </tr>\n    <tr>\n      <td>max</td>\n      <td>0.0</td>\n      <td>9.999839e-01</td>\n      <td>1.000000</td>\n      <td>2.548921e+09</td>\n      <td>6.000000</td>\n      <td>5.000000</td>\n      <td>333.000000</td>\n      <td>1.000000</td>\n      <td>1.000000</td>\n      <td>1.000000</td>\n      <td>1.000000</td>\n    </tr>\n  </tbody>\n</table>\n</div>"
     },
     "metadata": {},
     "execution_count": 162
    }
   ],
   "source": [
    "#def caída > 15\n",
    "def BR_F15_max(df):\n",
    "    if df['max_mora_feb']>=15:\n",
    "        return 1\n",
    "    else:\n",
    "        return 0\n",
    "\n",
    "Feb['Caida15']=Feb.apply(BR_F15_max,axis=1)\n",
    "desc_caida15=Feb.describe()\n",
    "desc_caida15"
   ]
  },
  {
   "cell_type": "code",
   "execution_count": 163,
   "metadata": {},
   "outputs": [
    {
     "output_type": "execute_result",
     "data": {
      "text/plain": [
       "           dias        Prodar  bin_temp_mayor       Balance      Cat_saldo  \\\n",
       "count  162925.0  1.629250e+05   162925.000000  1.629250e+05  162925.000000   \n",
       "mean        0.0  1.286637e-01        0.174356  1.246400e+07       3.065859   \n",
       "std         0.0  2.707059e-01        0.379417  2.914956e+07       1.612076   \n",
       "min         0.0  2.200000e-12        0.000000  7.023000e+03       1.000000   \n",
       "25%         0.0  1.457380e-04        0.000000  1.923029e+06       2.000000   \n",
       "50%         0.0  2.293841e-03        0.000000  4.107879e+06       3.000000   \n",
       "75%         0.0  5.279949e-02        0.000000  1.151759e+07       4.000000   \n",
       "max         0.0  9.999839e-01        1.000000  2.548921e+09       6.000000   \n",
       "\n",
       "              bucket   max_mora_feb          Caida         Caida5  \\\n",
       "count  162925.000000  162925.000000  162925.000000  162925.000000   \n",
       "mean        3.040534       3.753113       0.389161       0.228479   \n",
       "std         1.426194       7.678492       0.487561       0.419854   \n",
       "min         1.000000       0.000000       0.000000       0.000000   \n",
       "25%         2.000000       0.000000       0.000000       0.000000   \n",
       "50%         3.000000       0.000000       0.000000       0.000000   \n",
       "75%         4.000000       3.000000       1.000000       0.000000   \n",
       "max         5.000000     333.000000       1.000000       1.000000   \n",
       "\n",
       "             Caida10        Caida15        Caida20  \n",
       "count  162925.000000  162925.000000  162925.000000  \n",
       "mean        0.137603       0.093601       0.076029  \n",
       "std         0.344484       0.291274       0.265045  \n",
       "min         0.000000       0.000000       0.000000  \n",
       "25%         0.000000       0.000000       0.000000  \n",
       "50%         0.000000       0.000000       0.000000  \n",
       "75%         0.000000       0.000000       0.000000  \n",
       "max         1.000000       1.000000       1.000000  "
      ],
      "text/html": "<div>\n<style scoped>\n    .dataframe tbody tr th:only-of-type {\n        vertical-align: middle;\n    }\n\n    .dataframe tbody tr th {\n        vertical-align: top;\n    }\n\n    .dataframe thead th {\n        text-align: right;\n    }\n</style>\n<table border=\"1\" class=\"dataframe\">\n  <thead>\n    <tr style=\"text-align: right;\">\n      <th></th>\n      <th>dias</th>\n      <th>Prodar</th>\n      <th>bin_temp_mayor</th>\n      <th>Balance</th>\n      <th>Cat_saldo</th>\n      <th>bucket</th>\n      <th>max_mora_feb</th>\n      <th>Caida</th>\n      <th>Caida5</th>\n      <th>Caida10</th>\n      <th>Caida15</th>\n      <th>Caida20</th>\n    </tr>\n  </thead>\n  <tbody>\n    <tr>\n      <td>count</td>\n      <td>162925.0</td>\n      <td>1.629250e+05</td>\n      <td>162925.000000</td>\n      <td>1.629250e+05</td>\n      <td>162925.000000</td>\n      <td>162925.000000</td>\n      <td>162925.000000</td>\n      <td>162925.000000</td>\n      <td>162925.000000</td>\n      <td>162925.000000</td>\n      <td>162925.000000</td>\n      <td>162925.000000</td>\n    </tr>\n    <tr>\n      <td>mean</td>\n      <td>0.0</td>\n      <td>1.286637e-01</td>\n      <td>0.174356</td>\n      <td>1.246400e+07</td>\n      <td>3.065859</td>\n      <td>3.040534</td>\n      <td>3.753113</td>\n      <td>0.389161</td>\n      <td>0.228479</td>\n      <td>0.137603</td>\n      <td>0.093601</td>\n      <td>0.076029</td>\n    </tr>\n    <tr>\n      <td>std</td>\n      <td>0.0</td>\n      <td>2.707059e-01</td>\n      <td>0.379417</td>\n      <td>2.914956e+07</td>\n      <td>1.612076</td>\n      <td>1.426194</td>\n      <td>7.678492</td>\n      <td>0.487561</td>\n      <td>0.419854</td>\n      <td>0.344484</td>\n      <td>0.291274</td>\n      <td>0.265045</td>\n    </tr>\n    <tr>\n      <td>min</td>\n      <td>0.0</td>\n      <td>2.200000e-12</td>\n      <td>0.000000</td>\n      <td>7.023000e+03</td>\n      <td>1.000000</td>\n      <td>1.000000</td>\n      <td>0.000000</td>\n      <td>0.000000</td>\n      <td>0.000000</td>\n      <td>0.000000</td>\n      <td>0.000000</td>\n      <td>0.000000</td>\n    </tr>\n    <tr>\n      <td>25%</td>\n      <td>0.0</td>\n      <td>1.457380e-04</td>\n      <td>0.000000</td>\n      <td>1.923029e+06</td>\n      <td>2.000000</td>\n      <td>2.000000</td>\n      <td>0.000000</td>\n      <td>0.000000</td>\n      <td>0.000000</td>\n      <td>0.000000</td>\n      <td>0.000000</td>\n      <td>0.000000</td>\n    </tr>\n    <tr>\n      <td>50%</td>\n      <td>0.0</td>\n      <td>2.293841e-03</td>\n      <td>0.000000</td>\n      <td>4.107879e+06</td>\n      <td>3.000000</td>\n      <td>3.000000</td>\n      <td>0.000000</td>\n      <td>0.000000</td>\n      <td>0.000000</td>\n      <td>0.000000</td>\n      <td>0.000000</td>\n      <td>0.000000</td>\n    </tr>\n    <tr>\n      <td>75%</td>\n      <td>0.0</td>\n      <td>5.279949e-02</td>\n      <td>0.000000</td>\n      <td>1.151759e+07</td>\n      <td>4.000000</td>\n      <td>4.000000</td>\n      <td>3.000000</td>\n      <td>1.000000</td>\n      <td>0.000000</td>\n      <td>0.000000</td>\n      <td>0.000000</td>\n      <td>0.000000</td>\n    </tr>\n    <tr>\n      <td>max</td>\n      <td>0.0</td>\n      <td>9.999839e-01</td>\n      <td>1.000000</td>\n      <td>2.548921e+09</td>\n      <td>6.000000</td>\n      <td>5.000000</td>\n      <td>333.000000</td>\n      <td>1.000000</td>\n      <td>1.000000</td>\n      <td>1.000000</td>\n      <td>1.000000</td>\n      <td>1.000000</td>\n    </tr>\n  </tbody>\n</table>\n</div>"
     },
     "metadata": {},
     "execution_count": 163
    }
   ],
   "source": [
    "#def caída > 20\n",
    "def BR_F20_max(df):\n",
    "    if df['max_mora_feb']>=20:\n",
    "        return 1\n",
    "    else:\n",
    "        return 0\n",
    "\n",
    "Feb['Caida20']=Feb.apply(BR_F20_max,axis=1)\n",
    "desc_caida20=Feb.describe()\n",
    "desc_caida20"
   ]
  },
  {
   "cell_type": "code",
   "execution_count": 149,
   "metadata": {},
   "outputs": [
    {
     "output_type": "execute_result",
     "data": {
      "text/plain": [
       "Index(['ID CIFRADO LETRAS', 'dias', 'Prodar', 'bin_temp_mayor',\n",
       "       'cate_temp_mayor', 'banca', 'Balance', 'Cat_saldo', 'bucket', 'Marcas',\n",
       "       'max_mora_feb', 'Piloto - Control', 'Caida'],\n",
       "      dtype='object')"
      ]
     },
     "metadata": {},
     "execution_count": 149
    }
   ],
   "source": [
    "Feb.columns"
   ]
  },
  {
   "cell_type": "code",
   "execution_count": 164,
   "metadata": {},
   "outputs": [
    {
     "output_type": "execute_result",
     "data": {
      "text/plain": [
       "Piloto - Control\n",
       "Control    81483\n",
       "Piloto     81442\n",
       "dtype: int64"
      ]
     },
     "metadata": {},
     "execution_count": 164
    }
   ],
   "source": [
    "Feb.groupby('Piloto - Control').size()"
   ]
  },
  {
   "cell_type": "code",
   "execution_count": 169,
   "metadata": {},
   "outputs": [
    {
     "output_type": "execute_result",
     "data": {
      "text/plain": [
       "             Balance     Caida           Caida5         Caida10        \\\n",
       "                 sum      mean    sum      mean   sum      mean   sum   \n",
       "Marcas                                                                  \n",
       "1.SA    323361700936  0.593235   7085  0.425772  5085  0.301767  3604   \n",
       "2.A     154877793004  0.507585   6090  0.342974  4115  0.225704  2708   \n",
       "3.M     230776839738  0.411870  11305  0.222384  6104  0.115600  3173   \n",
       "4.B     294148720478  0.248182   5905  0.115916  2758  0.054428  1295   \n",
       "5.SB      7493691050  0.186581   1168  0.080351   503  0.034665   217   \n",
       "\n",
       "         Caida15         Caida20        \n",
       "            mean   sum      mean   sum  \n",
       "Marcas                                  \n",
       "1.SA    0.229088  2736  0.193419  2310  \n",
       "2.A     0.160027  1920  0.133106  1597  \n",
       "3.M     0.068894  1891  0.054248  1489  \n",
       "4.B     0.031480   749  0.023704   564  \n",
       "5.SB    0.018530   116  0.013898    87  "
      ],
      "text/html": "<div>\n<style scoped>\n    .dataframe tbody tr th:only-of-type {\n        vertical-align: middle;\n    }\n\n    .dataframe tbody tr th {\n        vertical-align: top;\n    }\n\n    .dataframe thead tr th {\n        text-align: left;\n    }\n\n    .dataframe thead tr:last-of-type th {\n        text-align: right;\n    }\n</style>\n<table border=\"1\" class=\"dataframe\">\n  <thead>\n    <tr>\n      <th></th>\n      <th>Balance</th>\n      <th colspan=\"2\" halign=\"left\">Caida</th>\n      <th colspan=\"2\" halign=\"left\">Caida5</th>\n      <th colspan=\"2\" halign=\"left\">Caida10</th>\n      <th colspan=\"2\" halign=\"left\">Caida15</th>\n      <th colspan=\"2\" halign=\"left\">Caida20</th>\n    </tr>\n    <tr>\n      <th></th>\n      <th>sum</th>\n      <th>mean</th>\n      <th>sum</th>\n      <th>mean</th>\n      <th>sum</th>\n      <th>mean</th>\n      <th>sum</th>\n      <th>mean</th>\n      <th>sum</th>\n      <th>mean</th>\n      <th>sum</th>\n    </tr>\n    <tr>\n      <th>Marcas</th>\n      <th></th>\n      <th></th>\n      <th></th>\n      <th></th>\n      <th></th>\n      <th></th>\n      <th></th>\n      <th></th>\n      <th></th>\n      <th></th>\n      <th></th>\n    </tr>\n  </thead>\n  <tbody>\n    <tr>\n      <td>1.SA</td>\n      <td>323361700936</td>\n      <td>0.593235</td>\n      <td>7085</td>\n      <td>0.425772</td>\n      <td>5085</td>\n      <td>0.301767</td>\n      <td>3604</td>\n      <td>0.229088</td>\n      <td>2736</td>\n      <td>0.193419</td>\n      <td>2310</td>\n    </tr>\n    <tr>\n      <td>2.A</td>\n      <td>154877793004</td>\n      <td>0.507585</td>\n      <td>6090</td>\n      <td>0.342974</td>\n      <td>4115</td>\n      <td>0.225704</td>\n      <td>2708</td>\n      <td>0.160027</td>\n      <td>1920</td>\n      <td>0.133106</td>\n      <td>1597</td>\n    </tr>\n    <tr>\n      <td>3.M</td>\n      <td>230776839738</td>\n      <td>0.411870</td>\n      <td>11305</td>\n      <td>0.222384</td>\n      <td>6104</td>\n      <td>0.115600</td>\n      <td>3173</td>\n      <td>0.068894</td>\n      <td>1891</td>\n      <td>0.054248</td>\n      <td>1489</td>\n    </tr>\n    <tr>\n      <td>4.B</td>\n      <td>294148720478</td>\n      <td>0.248182</td>\n      <td>5905</td>\n      <td>0.115916</td>\n      <td>2758</td>\n      <td>0.054428</td>\n      <td>1295</td>\n      <td>0.031480</td>\n      <td>749</td>\n      <td>0.023704</td>\n      <td>564</td>\n    </tr>\n    <tr>\n      <td>5.SB</td>\n      <td>7493691050</td>\n      <td>0.186581</td>\n      <td>1168</td>\n      <td>0.080351</td>\n      <td>503</td>\n      <td>0.034665</td>\n      <td>217</td>\n      <td>0.018530</td>\n      <td>116</td>\n      <td>0.013898</td>\n      <td>87</td>\n    </tr>\n  </tbody>\n</table>\n</div>"
     },
     "metadata": {},
     "execution_count": 169
    }
   ],
   "source": [
    "#caídas por grupos dell Piloto \n",
    "piloto_Feb=Feb[Feb[\"Piloto - Control\"]==\"Piloto\"]\n",
    "volumen_asignado=piloto_Feb.groupby('Marcas').size()\n",
    "caidas=piloto_Feb.groupby('Marcas').agg({'Balance':['sum'] ,'Caida':['mean','sum'] ,'Caida5':['mean','sum'],'Caida10':['mean','sum'],'Caida15':['mean','sum'],'Caida20':['mean','sum']})\n",
    "caidas\n"
   ]
  },
  {
   "cell_type": "code",
   "execution_count": 170,
   "metadata": {},
   "outputs": [],
   "source": [
    "path = r\"/Users/merchan diana/Egnyte/Private/merchan.diana/DM_3_2021/11. Bco Occidente/5_pruebas_PCP/Output/Matriz otros meses FEB OP2 26MAR21.xlsx\"\n",
    "writer = pd.ExcelWriter(path, engine = \"xlsxwriter\")\n",
    "descriptivo_Feb.to_excel(writer, sheet_name=\"1_Desc_FEB\")\n",
    "dist_ProbFEB.to_excel(writer, sheet_name=\"2_Dist_P_FEB\")\n",
    "dist_saldoFeb.to_excel(writer, sheet_name=\"3_Dist SAldos FEB\")\n",
    "dist_probFeb.to_excel(writer, sheet_name=\"4_Dist Prob FEB\")\n",
    "dist_Marcas.to_excel(writer, sheet_name=\"5 Marcas FEB\")\n",
    "marcas_saldos.to_excel(writer, sheet_name=\"6 MarcasxSaldos FEB\")\n",
    "moras_feb.to_excel(writer, sheet_name=\"7 Caidas mes Feb\")\n",
    "desc_caida.to_excel(writer, sheet_name=\"8 Prom Caida\")\n",
    "volumen_asignado.to_excel(writer, sheet_name=\"9 Clientes Asignados\")\n",
    "caidas.to_excel(writer, sheet_name=\" Caida por Grupo\")\n",
    "#Feb.to_excel(writer, sheet_name=\"5 FEB\")\n",
    "writer.save()\n",
    "writer.close()\n"
   ]
  },
  {
   "cell_type": "code",
   "execution_count": null,
   "metadata": {},
   "outputs": [],
   "source": []
  }
 ]
}